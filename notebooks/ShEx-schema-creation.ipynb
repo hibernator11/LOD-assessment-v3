{
 "cells": [
  {
   "cell_type": "markdown",
   "id": "d079bfd6",
   "metadata": {},
   "source": [
    "# Generation of ShEx schemas\n",
    "\n",
    "This examples shows how to automatically generate ShEx schemas from an RDF repository. This example is based on the [Zeri Photo Archive to Linked Open Data](http://data.fondazionezeri.unibo.it) dataset."
   ]
  },
  {
   "cell_type": "code",
   "execution_count": 1,
   "id": "9662f9af",
   "metadata": {},
   "outputs": [],
   "source": [
    "from shexer.shaper import Shaper\n",
    "from shexer.consts import NT"
   ]
  },
  {
   "cell_type": "markdown",
   "id": "cc52dbf6",
   "metadata": {},
   "source": [
    "### We will use the public SPARQL endpoint"
   ]
  },
  {
   "cell_type": "code",
   "execution_count": 2,
   "id": "b4582291",
   "metadata": {},
   "outputs": [],
   "source": [
    "url_endpoint=\"http://data.fondazionezeri.unibo.it/sparql\""
   ]
  },
  {
   "cell_type": "markdown",
   "id": "dd78fa5e",
   "metadata": {},
   "source": [
    "### We define the target classes to mine the RDF dataset"
   ]
  },
  {
   "cell_type": "code",
   "execution_count": 3,
   "id": "3f55b49d",
   "metadata": {},
   "outputs": [],
   "source": [
    "target_classes = [\n",
    "     \"http://www.cidoc-crm.org/cidoc-crm/E39_Actor\",\n",
    "     \"http://www.cidoc-crm.org/cidoc-crm/E53_Place\",\n",
    "     \"http://www.cidoc-crm.org/cidoc-crm/E65_Creation\",\n",
    "     \"http://www.cidoc-crm.org/cidoc-crm/E35_Title\",\n",
    "     \"http://www.cidoc-crm.org/cidoc-crm/E22_Man-Made_Object\"\n",
    "]"
   ]
  },
  {
   "cell_type": "markdown",
   "id": "a7ee654b",
   "metadata": {},
   "source": [
    "### We can provide the namespaces "
   ]
  },
  {
   "cell_type": "code",
   "execution_count": 4,
   "id": "b7fd3f47",
   "metadata": {},
   "outputs": [],
   "source": [
    "namespaces_dict = {\"http://www.w3.org/1999/02/22-rdf-syntax-ns#\": \"rdf\",\n",
    "                   \"http://www.w3.org/2000/01/rdf-schema#\": \"rdfs\", \n",
    "                   \"http://weso.es/shapes/\": \"\",\n",
    "                   \"http://www.w3.org/2001/XMLSchema#\": \"xsd\",\n",
    "                   \"http://www.cidoc-crm.org/cidoc-crm/\": \"cidoc-crm\",\n",
    "                   \"http://schema.org/\": \"schema\",\n",
    "                   \"http://rdfs.org/ns/void#\": \"void\",\n",
    "                   \"http://creativecommons.org/ns#\": \"creativeCommons\",\n",
    "                   \"http://purl.org/dc/terms/\": \"dc-terms\",\n",
    "                   \"http://xmlns.com/foaf/0.1/\": \"foaf\",\n",
    "                   \"http://purl.org/ontology/bibo/\": \"bibo\",\n",
    "                   \"http://www.w3.org/2004/02/skos/core#\": \"skos\",\n",
    "                   \"http://purl.org/dc/elements/1.1/\": \"dc\",\n",
    "                   \"http://www.w3.org/2008/05/skos-xl#\": \"skos-xl\",\n",
    "                   \"http://data.nobelprize.org/terms/\": \"nobel\"\n",
    "                   }"
   ]
  },
  {
   "cell_type": "markdown",
   "id": "1a9922cf",
   "metadata": {},
   "source": [
    "### We use the Shaper class \n",
    "\n",
    "We use as an example 5 instances (param limit_remote_instances) from the dataset to generate the ShEx schemas"
   ]
  },
  {
   "cell_type": "code",
   "execution_count": 5,
   "id": "b3b636ac",
   "metadata": {},
   "outputs": [
    {
     "name": "stdout",
     "output_type": "stream",
     "text": [
      "Done!\n"
     ]
    }
   ],
   "source": [
    "shaper = Shaper(target_classes=target_classes,\n",
    "                url_endpoint=url_endpoint, \n",
    "                input_format=NT,\n",
    "                limit_remote_instances=5,\n",
    "                namespaces_dict=namespaces_dict,  # Default: no prefixes\n",
    "                instantiation_property=\"http://www.w3.org/1999/02/22-rdf-syntax-ns#type\")  # Default rdf:type\n",
    "\n",
    "output_file = \"shex_zeri_actor.shex\"\n",
    "\n",
    "shaper.shex_graph(output_file=output_file,\n",
    "                  acceptance_threshold=0.8)\n",
    "\n",
    "print(\"Done!\")"
   ]
  },
  {
   "cell_type": "markdown",
   "id": "11379764",
   "metadata": {},
   "source": [
    "### As a result we obtain a ShEx schema based on the information provided by the dataset"
   ]
  },
  {
   "cell_type": "markdown",
   "id": "053ebec6",
   "metadata": {},
   "source": [
    "```\n",
    "weso-s:E39_Actor\n",
    "{\n",
    "   rdf:type  [cidoc-crm:E39_Actor]  ;                          # 100.0 %\n",
    "   rdfs:label  rdf:langString  +;                              # 100.0 %\n",
    "            # 80.0 % obj: rdf:langString. Cardinality: {1}\n",
    "   <http://purl.org/spar/pro/holdsRoleInTime>  IRI  *;\n",
    "            # 80.0 % obj: IRI. Cardinality: +\n",
    "   cidoc-crm:P76_has_contact_point  IRI  *\n",
    "            # 80.0 % obj: IRI. Cardinality: +\n",
    "}\n",
    "\n",
    "\n",
    "weso-s:E53_Place\n",
    "{\n",
    "   rdf:type  [cidoc-crm:E53_Place]  ;                          # 100.0 %\n",
    "   rdfs:label  rdf:langString  +;                              # 100.0 %\n",
    "            # 80.0 % obj: rdf:langString. Cardinality: {2}\n",
    "   cidoc-crm:P89_falls_within  @weso-s:E53_Place  ?\n",
    "            # 80.0 % obj: @weso-s:E53_Place. Cardinality: {1}\n",
    "}\n",
    "\n",
    "\n",
    "weso-s:E65_Creation\n",
    "{\n",
    "   rdf:type  [cidoc-crm:E65_Creation]  ;                       # 100.0 %\n",
    "   rdfs:label  rdf:langString  {2};                            # 100.0 %\n",
    "   cidoc-crm:P14_carried_out_by  IRI  ;                        # 100.0 %\n",
    "   cidoc-crm:P4_has_time_span  IRI  ?\n",
    "            # 80.0 % obj: IRI. Cardinality: {1}\n",
    "}\n",
    "\n",
    "\n",
    "weso-s:E35_Title\n",
    "{\n",
    "   rdf:type  [cidoc-crm:E35_Title]  ;                          # 100.0 %\n",
    "   rdfs:label  rdf:langString  *\n",
    "            # 80.0 % obj: rdf:langString. Cardinality: {2}\n",
    "}\n",
    "\n",
    "\n",
    "weso-s:E22_Man-Made_Object\n",
    "{\n",
    "   rdf:type  [cidoc-crm:E22_Man-Made_Object]  ;                # 100.0 %\n",
    "   rdfs:label  rdf:langString  {2}                             # 100.0 %\n",
    "}\n",
    "```\n"
   ]
  },
  {
   "cell_type": "code",
   "execution_count": null,
   "id": "0478d427",
   "metadata": {},
   "outputs": [],
   "source": []
  }
 ],
 "metadata": {
  "kernelspec": {
   "display_name": "Python 3",
   "language": "python",
   "name": "python3"
  },
  "language_info": {
   "codemirror_mode": {
    "name": "ipython",
    "version": 3
   },
   "file_extension": ".py",
   "mimetype": "text/x-python",
   "name": "python",
   "nbconvert_exporter": "python",
   "pygments_lexer": "ipython3",
   "version": "3.9.12"
  }
 },
 "nbformat": 4,
 "nbformat_minor": 5
}
