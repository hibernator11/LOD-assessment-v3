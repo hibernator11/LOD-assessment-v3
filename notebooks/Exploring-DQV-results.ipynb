{
 "cells": [
  {
   "cell_type": "markdown",
   "id": "fa62d1fb",
   "metadata": {},
   "source": [
    "# Exploring the DQV results"
   ]
  },
  {
   "cell_type": "code",
   "execution_count": 44,
   "id": "e5d1b9ea",
   "metadata": {},
   "outputs": [],
   "source": [
    "from rdflib import Graph"
   ]
  },
  {
   "cell_type": "markdown",
   "id": "c60b2a30",
   "metadata": {},
   "source": [
    "## Loading the RDF dataset"
   ]
  },
  {
   "cell_type": "code",
   "execution_count": 45,
   "id": "82a991c2",
   "metadata": {},
   "outputs": [
    {
     "data": {
      "text/plain": [
       "<Graph identifier=N2b04f5fbae7d4fdcb8bdba201722380c (<class 'rdflib.graph.Graph'>)>"
      ]
     },
     "execution_count": 45,
     "metadata": {},
     "output_type": "execute_result"
    }
   ],
   "source": [
    "# Create a Graph\n",
    "g = Graph().parse(\"../agrovoc/agrovoc-dqv-measurement.n3\",format='n3')\n",
    "g.parse(\"../datos-es/datos-es-dqv-measurement.n3\",format='n3')\n",
    "g.parse(\"../makg/makg-dqv-measurement.n3\",format='n3')\n",
    "g.parse(\"../scottish-gov/scottish-gov-dqv-measurement.n3\",format='n3')\n",
    "g.parse(\"../zeri/zeri-dqv-measurement.n3\",format='n3')"
   ]
  },
  {
   "cell_type": "markdown",
   "id": "3fafe02c",
   "metadata": {},
   "source": [
    "## Let's retrieve the number of classes in the RDF dataset"
   ]
  },
  {
   "cell_type": "code",
   "execution_count": 46,
   "id": "cd5d532d",
   "metadata": {},
   "outputs": [
    {
     "name": "stdout",
     "output_type": "stream",
     "text": [
      "##### Number of classes:\n",
      "4\n"
     ]
    }
   ],
   "source": [
    "print('##### Number of classes:')\n",
    "\n",
    "# Query the data in g using SPARQL\n",
    "q = \"\"\"\n",
    "    SELECT (count(distinct ?class) as ?classes)\n",
    "    WHERE {\n",
    "        ?s a ?class .\n",
    "    }\n",
    "\"\"\"\n",
    "\n",
    "# Apply the query to the graph and iterate through results\n",
    "for r in g.query(q):\n",
    "    print(r[\"classes\"])"
   ]
  },
  {
   "cell_type": "markdown",
   "id": "08a33cf8",
   "metadata": {},
   "source": [
    "## What classes are used in the dataset?"
   ]
  },
  {
   "cell_type": "code",
   "execution_count": 47,
   "id": "0853e8f1",
   "metadata": {
    "scrolled": true
   },
   "outputs": [
    {
     "name": "stdout",
     "output_type": "stream",
     "text": [
      "##### Classes:\n",
      "http://www.w3.org/ns/dcat#Dataset\n",
      "http://www.w3.org/ns/dcat#Distribution\n",
      "http://www.w3.org/ns/dqv#Metric\n",
      "http://www.w3.org/ns/dqv#QualityMeasurement\n"
     ]
    }
   ],
   "source": [
    "print('##### Classes:')\n",
    "\n",
    "# Query the data in g using SPARQL\n",
    "q = \"\"\"\n",
    "    SELECT distinct ?class\n",
    "    WHERE {\n",
    "        ?s a ?class .\n",
    "    }\n",
    "\"\"\"\n",
    "\n",
    "# Apply the query to the graph and iterate through results\n",
    "for r in g.query(q):\n",
    "    print(r[\"class\"])"
   ]
  },
  {
   "cell_type": "markdown",
   "id": "c6d87ae8",
   "metadata": {},
   "source": [
    "## How many properties datasets are assessed?"
   ]
  },
  {
   "cell_type": "code",
   "execution_count": 48,
   "id": "67e999a2",
   "metadata": {},
   "outputs": [
    {
     "name": "stdout",
     "output_type": "stream",
     "text": [
      "##### Number of datasets:\n",
      "5\n"
     ]
    }
   ],
   "source": [
    "print('##### Number of datasets:')\n",
    "\n",
    "# Query the data in g using SPARQL\n",
    "q = \"\"\"\n",
    "    SELECT (count(distinct ?s) as ?total)\n",
    "    WHERE {\n",
    "        ?s a <http://www.w3.org/ns/dcat#Dataset> .\n",
    "    }\n",
    "\"\"\"\n",
    "\n",
    "# Apply the query to the graph and iterate through results\n",
    "for r in g.query(q):\n",
    "    print(r[\"total\"])"
   ]
  },
  {
   "cell_type": "markdown",
   "id": "c753b613",
   "metadata": {},
   "source": [
    "## Let's retrieve the name of the datasets"
   ]
  },
  {
   "cell_type": "code",
   "execution_count": 49,
   "id": "c89b2017",
   "metadata": {},
   "outputs": [
    {
     "name": "stdout",
     "output_type": "stream",
     "text": [
      "##### Number of datasets:\n",
      "Agrovoc\n",
      "datos.gob.es\n",
      "Microsoft Academic Knowledge Graph\n",
      "Scottish Government\n",
      "Zeri Photo Archive\n"
     ]
    }
   ],
   "source": [
    "print('##### Number of datasets:')\n",
    "\n",
    "# Query the data in g using SPARQL\n",
    "q = \"\"\"\n",
    "    PREFIX dcterms: <http://purl.org/dc/terms/> \n",
    "    SELECT ?s ?title\n",
    "    WHERE {\n",
    "        ?s a <http://www.w3.org/ns/dcat#Dataset> .\n",
    "        ?s dcterms:title ?title\n",
    "    }\n",
    "\"\"\"\n",
    "\n",
    "# Apply the query to the graph and iterate through results\n",
    "for r in g.query(q):\n",
    "    print(r[\"title\"])"
   ]
  },
  {
   "cell_type": "markdown",
   "id": "06a08fa1",
   "metadata": {},
   "source": [
    "## Let's retrieve the metrics"
   ]
  },
  {
   "cell_type": "code",
   "execution_count": 51,
   "id": "d8084559",
   "metadata": {},
   "outputs": [
    {
     "name": "stdout",
     "output_type": "stream",
     "text": [
      "##### Number of datasets:\n",
      "Agrovoc 1 It checks the ratio of conformant resources according to a Shape Expression schema.\n",
      "Scottish Government 1 It checks the ratio of conformant resources according to a Shape Expression schema.\n",
      "Microsoft Academic Knowledge Graph 0.99 It checks the ratio of conformant resources according to a Shape Expression schema.\n",
      "Zeri Photo Archive 0.99 It checks the ratio of conformant resources according to a Shape Expression schema.\n",
      "datos.gob.es 0.77 It checks the ratio of conformant resources according to a Shape Expression schema.\n"
     ]
    }
   ],
   "source": [
    "print('##### Number of datasets:')\n",
    "\n",
    "# Query the data in g using SPARQL\n",
    "q = \"\"\"\n",
    "    PREFIX dcterms: <http://purl.org/dc/terms/> \n",
    "    PREFIX dcat: <http://www.w3.org/ns/dcat#> \n",
    "    PREFIX dqv: <http://www.w3.org/ns/dqv#> \n",
    "    PREFIX skos: <http://www.w3.org/2004/02/skos/core#> \n",
    "    PREFIX ldqv: <https://www.w3.org/2016/05/ldqd>\n",
    "    \n",
    "    SELECT ?title ?value ?definition\n",
    "    WHERE {\n",
    "        ?dataset a dcat:Dataset .\n",
    "        ?dataset dcterms:title ?title .\n",
    "        ?dataset dcat:distribution ?distribution .\n",
    "        ?distribution dqv:hasQualityMeasurement ?measurement .\n",
    "        ?measurement dqv:isMeasurementOf ?shex .\n",
    "        ?shex skos:definition ?definition .\n",
    "        ?measurement dqv:value ?value .\n",
    "        ?shex dqv:inDimension ldqv:consistency \n",
    "    }\n",
    "    ORDER BY DESC(?value)\n",
    "\"\"\"\n",
    "\n",
    "# Apply the query to the graph and iterate through results\n",
    "for r in g.query(q):\n",
    "    print(r[\"title\"], r[\"value\"], r[\"definition\"])"
   ]
  },
  {
   "cell_type": "code",
   "execution_count": null,
   "id": "9727ebb0",
   "metadata": {},
   "outputs": [],
   "source": []
  }
 ],
 "metadata": {
  "kernelspec": {
   "display_name": "Python 3",
   "language": "python",
   "name": "python3"
  },
  "language_info": {
   "codemirror_mode": {
    "name": "ipython",
    "version": 3
   },
   "file_extension": ".py",
   "mimetype": "text/x-python",
   "name": "python",
   "nbconvert_exporter": "python",
   "pygments_lexer": "ipython3",
   "version": "3.9.12"
  }
 },
 "nbformat": 4,
 "nbformat_minor": 5
}
