{
 "cells": [
  {
   "cell_type": "markdown",
   "id": "c2bd3952",
   "metadata": {},
   "source": [
    "# Assessment of RDF data using ShEx schemas\n",
    "\n",
    "This example is based on the [Zeri Photo Archive to Linked Open Data](http://data.fondazionezeri.unibo.it) dataset."
   ]
  },
  {
   "cell_type": "code",
   "execution_count": 1,
   "id": "68338648",
   "metadata": {},
   "outputs": [],
   "source": [
    "from pyshex.shex_evaluator import ShExEvaluator\n",
    "from pyshex.user_agent import SlurpyGraphWithAgent\n",
    "from pyshex.utils.sparql_query import SPARQLQuery"
   ]
  },
  {
   "cell_type": "code",
   "execution_count": 2,
   "id": "216a3175",
   "metadata": {},
   "outputs": [],
   "source": [
    "# SPARQL Endpoint\n",
    "endpoint = 'http://data.fondazionezeri.unibo.it/sparql'"
   ]
  },
  {
   "cell_type": "code",
   "execution_count": 6,
   "id": "ad6a4d2f",
   "metadata": {},
   "outputs": [],
   "source": [
    "# ShEx Expression\n",
    "shex = \"\"\"\n",
    "PREFIX rdf: <http://www.w3.org/1999/02/22-rdf-syntax-ns#>\n",
    "PREFIX rdfs: <http://www.w3.org/2000/01/rdf-schema#>\n",
    "PREFIX weso-s: <http://weso.es/shapes/>\n",
    "PREFIX xsd: <http://www.w3.org/2001/XMLSchema#>\n",
    "PREFIX cidoc-crm: <http://www.cidoc-crm.org/cidoc-crm/>\n",
    "PREFIX schema: <http://schema.org/>\n",
    "PREFIX void: <http://rdfs.org/ns/void#>\n",
    "PREFIX creativeCommons: <http://creativecommons.org/ns#>\n",
    "PREFIX dc-terms: <http://purl.org/dc/terms/>\n",
    "PREFIX geo: <http://www.w3.org/2003/01/geo/wgs84_pos#>\n",
    "PREFIX bibo: <http://purl.org/ontology/bibo/>\n",
    "PREFIX skos: <http://www.w3.org/2004/02/skos/core#>\n",
    "PREFIX dc: <http://purl.org/dc/elements/1.1/>\n",
    "PREFIX skos-xl: <http://www.w3.org/2008/05/skos-xl#>\n",
    "PREFIX foaf: <http://xmlns.com/foaf/0.1/>\n",
    "\n",
    "\n",
    "START=@weso-s:E39_Actor\n",
    "\n",
    "weso-s:E39_Actor\n",
    "{\n",
    "   rdf:type  [cidoc-crm:E39_Actor]  ;                          # 100.0 %\n",
    "   rdf:type [cidoc-crm:E40_Legal_Body]  ?;\n",
    "   rdf:type [foaf:Agent]  ?;\n",
    "   rdfs:label  xsd:string  *;\n",
    "            # 99.8 % obj: rdf:langString. Cardinality: +\n",
    "            # 98.0 % obj: rdf:langString. Cardinality: {1}\n",
    "   <http://purl.org/spar/pro/holdsRoleInTime>  IRI  *;\n",
    "            # 99.4 % obj: IRI. Cardinality: +\n",
    "   cidoc-crm:P76_has_contact_point  IRI  *\n",
    "            # 97.0 % obj: IRI. Cardinality: +\n",
    "            # 80.4 % obj: IRI. Cardinality: {1}\n",
    "}\n",
    "\n",
    "weso-s:E22_Man-Made_Object\n",
    "{\n",
    "   rdf:type  [cidoc-crm:E22_Man-Made_Object]  ;                # 100.0 %\n",
    "   rdfs:label  rdf:langString  {2}                             # 100.0 %\n",
    "}\n",
    "\n",
    "\"\"\""
   ]
  },
  {
   "cell_type": "code",
   "execution_count": 7,
   "id": "b7158e65",
   "metadata": {},
   "outputs": [
    {
     "name": "stdout",
     "output_type": "stream",
     "text": [
      "PASS\n",
      "PASS\n",
      "PASS\n",
      "PASS\n",
      "PASS\n",
      "PASS\n",
      "PASS\n",
      "PASS\n",
      "PASS\n",
      "PASS\n",
      "finish\n"
     ]
    }
   ],
   "source": [
    "# SPARQL Query\n",
    "sparql = \"\"\"\n",
    "    PREFIX rdf: <http://www.w3.org/1999/02/22-rdf-syntax-ns#>\n",
    "    PREFIX cidoc-crm: <http://www.cidoc-crm.org/cidoc-crm/>\n",
    "\n",
    "    SELECT DISTINCT ?item WHERE {\n",
    "      ?item rdf:type cidoc-crm:E39_Actor\n",
    "    } LIMIT 10\n",
    "    \"\"\"\n",
    "\n",
    "result = ShExEvaluator(SlurpyGraphWithAgent(endpoint),\n",
    "                       shex,\n",
    "                       SPARQLQuery(endpoint, sparql).focus_nodes()).evaluate()\n",
    "for r in result:\n",
    "    #print(f\"{r.focus}: \", end=\"\")\n",
    "    if not r.result:\n",
    "        print(f\"FAIL: {r.reason}\")\n",
    "    else:\n",
    "        print(\"PASS\")\n",
    "\n",
    "print(\"finish\")"
   ]
  },
  {
   "cell_type": "code",
   "execution_count": null,
   "id": "14339852",
   "metadata": {},
   "outputs": [],
   "source": []
  }
 ],
 "metadata": {
  "kernelspec": {
   "display_name": "Python 3",
   "language": "python",
   "name": "python3"
  },
  "language_info": {
   "codemirror_mode": {
    "name": "ipython",
    "version": 3
   },
   "file_extension": ".py",
   "mimetype": "text/x-python",
   "name": "python",
   "nbconvert_exporter": "python",
   "pygments_lexer": "ipython3",
   "version": "3.9.12"
  }
 },
 "nbformat": 4,
 "nbformat_minor": 5
}
